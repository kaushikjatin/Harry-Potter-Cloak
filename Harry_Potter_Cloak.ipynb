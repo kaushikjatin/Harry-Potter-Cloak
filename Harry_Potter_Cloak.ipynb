{
 "cells": [
  {
   "cell_type": "code",
   "execution_count": 4,
   "metadata": {},
   "outputs": [],
   "source": [
    "import cv2\n",
    "import numpy as np;"
   ]
  },
  {
   "cell_type": "code",
   "execution_count": 5,
   "metadata": {},
   "outputs": [],
   "source": [
    "import time;\n",
    "cap=cv2.VideoCapture(0)\n",
    "time.sleep(2);"
   ]
  },
  {
   "cell_type": "code",
   "execution_count": 6,
   "metadata": {},
   "outputs": [],
   "source": [
    "background=0;\n",
    "for i in range(60):\n",
    "    ret,background=cap.read()"
   ]
  },
  {
   "cell_type": "code",
   "execution_count": null,
   "metadata": {},
   "outputs": [],
   "source": [
    "while(cap.isOpened()):\n",
    "    ret,img=cap.read();\n",
    "    hsv=cv2.cvtColor(img,cv2.COLOR_BGR2HSV);\n",
    "    lower_bound=np.array([0,120,70]);\n",
    "    upper_bound=np.array([5,255,255]);\n",
    "    mask1=cv2.inRange(hsv,lower_bound,upper_bound);\n",
    "    \n",
    "    lower_bound=np.array([175,120,70]);\n",
    "    upper_bound=np.array([180,255,255]);\n",
    "    mask2=cv2.inRange(hsv,lower_bound,upper_bound);\n",
    "    \n",
    "    \n",
    "    \n",
    "    mask1+=mask2;  # clock part\n",
    "    mask1=cv2.morphologyEx(mask1,cv2.MORPH_OPEN,np.ones((3,3),np.uint8),iterations=2);\n",
    "    mask1=cv2.morphologyEx(mask1,cv2.MORPH_DILATE,np.ones((3,3),np.uint8),iterations=1);\n",
    "    mask2=cv2.bitwise_not(mask1);   # part withour clock....\n",
    "    \n",
    "    \n",
    "    res1=cv2.bitwise_and(background,background,mask=mask1);  # it will put 1 on the cloak part and in rest 0\n",
    "    res2=cv2.bitwise_and(img,img,mask=mask2);  # it will put 0 in the cloak part and rest 1\n",
    "    output=cv2.addWeighted(res1,1,res2,1,0);\n",
    "    \n",
    "    \n",
    "    cv2.imshow(\"Incantation\",output);\n",
    "    key=cv2.waitKey(10);\n",
    "    if(key==27):\n",
    "        break;\n",
    "    \n",
    "\n",
    "    \n",
    "\n",
    "cap.release();\n",
    "cv2.destroyAllWindows();"
   ]
  }
 ],
 "metadata": {
  "kernelspec": {
   "display_name": "Python 3",
   "language": "python",
   "name": "python3"
  },
  "language_info": {
   "codemirror_mode": {
    "name": "ipython",
    "version": 3
   },
   "file_extension": ".py",
   "mimetype": "text/x-python",
   "name": "python",
   "nbconvert_exporter": "python",
   "pygments_lexer": "ipython3",
   "version": "3.8.5"
  }
 },
 "nbformat": 4,
 "nbformat_minor": 4
}
